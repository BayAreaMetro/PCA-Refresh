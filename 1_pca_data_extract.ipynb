{
 "cells": [
  {
   "cell_type": "markdown",
   "metadata": {},
   "source": [
    "# Load AGOL datasets and save locally to Feather files "
   ]
  },
  {
   "cell_type": "code",
   "execution_count": 1,
   "metadata": {},
   "outputs": [
    {
     "name": "stdout",
     "output_type": "stream",
     "text": [
      "Info: Found credentials at: /Users/lelias/Library/CloudStorage/Box-Box/dvutils-creds-lelias.json\n",
      "Admin ArcGIS client created\n"
     ]
    }
   ],
   "source": [
    "from utils import *"
   ]
  },
  {
   "cell_type": "markdown",
   "metadata": {},
   "source": [
    "## Set Parameters"
   ]
  },
  {
   "cell_type": "code",
   "execution_count": 2,
   "metadata": {},
   "outputs": [],
   "source": [
    "# ## Set the PCA Layers configuration file: PCA Geographies and PCA Types\n",
    "# yaml_file = 'pca-layers.yml'"
   ]
  },
  {
   "cell_type": "markdown",
   "metadata": {},
   "source": [
    "## Create data dictionary from YAML"
   ]
  },
  {
   "cell_type": "code",
   "execution_count": 3,
   "metadata": {},
   "outputs": [],
   "source": [
    "## Load the PCA Data Layers configuration file\n",
    "pca_data = load_dict_from_yaml()"
   ]
  },
  {
   "cell_type": "markdown",
   "metadata": {},
   "source": [
    "## For each data item, load AGOL dataset and save to Feather file"
   ]
  },
  {
   "cell_type": "code",
   "execution_count": 4,
   "metadata": {},
   "outputs": [
    {
     "name": "stdout",
     "output_type": "stream",
     "text": [
      "Processing data items from the PCA Layers configuration file...\n",
      "\n",
      "Extracting pcas...\n",
      "File 'pca_geographies' already exists in '_data/feather_files'.\n",
      "\n",
      "Extracting natural_land...\n",
      "File 'natural_land' already exists in '_data/feather_files'.\n",
      "\n",
      "Extracting working_land...\n",
      "File 'working_land' already exists in '_data/feather_files'.\n",
      "\n",
      "Extracting urban_greening...\n",
      "File 'urban_greening' already exists in '_data/feather_files'.\n",
      "\n",
      "Extracting recreation...\n",
      "File 'recreation' already exists in '_data/feather_files'.\n",
      "\n",
      "Extracting climate_adaptation...\n",
      "File 'climate_adaptation' already exists in '_data/feather_files'.\n",
      "\n",
      "Extracting ugb...\n",
      "File 'ugb' already exists in '_data/feather_files'.\n",
      "\n",
      "Extracting cpad...\n",
      "File 'cpad' already exists in '_data/feather_files'.\n",
      "\n",
      "Data extraction complete!\n",
      "Data Dictionary saved to _data/feather_files/pca_datasets_data_dictionary.csv\n",
      "\n"
     ]
    }
   ],
   "source": [
    "## Extract AGOL datasets and save locally as feather files\n",
    "print('Processing data items from the PCA Layers configuration file...\\n')\n",
    "for item, dict in pca_data.items():\n",
    "    print(f\"Extracting {item}...\")\n",
    "    agol_to_feather(dict['filename'], dict['url'])\n",
    "print('Data extraction complete!')\n",
    "\n",
    "# Create a data dictionary for the PCA datasets\n",
    "create_data_dictionary(pca_data, 'pca_datasets')"
   ]
  },
  {
   "cell_type": "code",
   "execution_count": null,
   "metadata": {},
   "outputs": [],
   "source": []
  }
 ],
 "metadata": {
  "kernelspec": {
   "display_name": "dvutils",
   "language": "python",
   "name": "python3"
  },
  "language_info": {
   "codemirror_mode": {
    "name": "ipython",
    "version": 3
   },
   "file_extension": ".py",
   "mimetype": "text/x-python",
   "name": "python",
   "nbconvert_exporter": "python",
   "pygments_lexer": "ipython3",
   "version": "3.11.7"
  }
 },
 "nbformat": 4,
 "nbformat_minor": 2
}
